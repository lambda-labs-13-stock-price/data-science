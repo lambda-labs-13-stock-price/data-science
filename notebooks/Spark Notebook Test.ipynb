{
 "cells": [
  {
   "cell_type": "code",
   "execution_count": 9,
   "metadata": {},
   "outputs": [
    {
     "name": "stdout",
     "output_type": "stream",
     "text": [
      "Time: 0.12161898612976074 seconds.\n",
      "\n"
     ]
    },
    {
     "data": {
      "text/plain": [
       "x: Int = 1\n",
       "y: Int = 2\n",
       "res7: Int = 3\n"
      ]
     },
     "execution_count": 9,
     "metadata": {},
     "output_type": "execute_result"
    }
   ],
   "source": [
    "%%time\n",
    "\n",
    "// Run this cell first to test/check if the Scala interpreter initializes\n",
    "val x = 1\n",
    "val y = 2\n",
    "x+y"
   ]
  },
  {
   "cell_type": "markdown",
   "metadata": {},
   "source": [
    "# Scala for Spark to improve Twitter Data Pipeline"
   ]
  },
  {
   "cell_type": "code",
   "execution_count": 10,
   "metadata": {},
   "outputs": [
    {
     "ename": "<console>",
     "evalue": "29: error: not found: value twitter4j",
     "output_type": "error",
     "traceback": [
      "<console>:29: error: not found: value twitter4j",
      "       import twitter4j.conf.ConfigurationBuilder",
      "              ^",
      "<console>:30: error: not found: value twitter4j",
      "       import twitter4j.auth.OAuthAuthorization",
      "              ^",
      "<console>:31: error: not found: value twitter4j",
      "       import twitter4j.Status",
      "              ^",
      "<console>:32: error: object twitter is not a member of package org.apache.spark.streaming",
      "       import org.apache.spark.streaming.twitter.TwitterUtils",
      "                                         ^",
      "<console>:35: error: object kafka is not a member of package org.apache",
      "       import org.apache.kafka.common.serialization.StringDeserializer",
      "                         ^",
      "<console>:36: error: object kafka010 is not a member of package org.apache.spark.streaming",
      "       import org.apache.spark.streaming.kafka010._",
      "                                         ^",
      "<console>:37: error: object kafka010 is not a member of package org.apache.spark.streaming",
      "       import org.apache.spark.streaming.kafka010.LocationStrategies.PreferConsistent",
      "                                         ^",
      "<console>:38: error: object kafka010 is not a member of package org.apache.spark.streaming",
      "       import org.apache.spark.streaming.kafka010.ConsumerStrategies.Subscribe",
      "                                         ^",
      "<console>:39: error: object kafka is not a member of package org.apache",
      "       import org.apache.kafka.clients.producer.{KafkaProducer, ProducerRecord}",
      "                         ^",
      ""
     ]
    }
   ],
   "source": [
    "import java.util.Properties\n",
    "\n",
    "import org.apache.spark.SparkConf\n",
    "import org.apache.spark.streaming.StreamingContext\n",
    "import org.apache.spark.streaming.Seconds\n",
    "import twitter4j.conf.ConfigurationBuilder\n",
    "import twitter4j.auth.OAuthAuthorization\n",
    "import twitter4j.Status\n",
    "import org.apache.spark.streaming.twitter.TwitterUtils\n",
    "import org.apache.spark.streaming._\n",
    "\n",
    "import org.apache.kafka.common.serialization.StringDeserializer\n",
    "import org.apache.spark.streaming.kafka010._\n",
    "import org.apache.spark.streaming.kafka010.LocationStrategies.PreferConsistent\n",
    "import org.apache.spark.streaming.kafka010.ConsumerStrategies.Subscribe\n",
    "import org.apache.kafka.clients.producer.{KafkaProducer, ProducerRecord}"
   ]
  },
  {
   "cell_type": "code",
   "execution_count": 3,
   "metadata": {},
   "outputs": [
    {
     "name": "stdout",
     "output_type": "stream",
     "text": [
      "+---+---+---+\n",
      "| _1| _2| _3|\n",
      "+---+---+---+\n",
      "|  1|  2|  3|\n",
      "|  4|  5|  6|\n",
      "|  6|  7|  8|\n",
      "|  9| 19| 10|\n",
      "+---+---+---+\n",
      "\n",
      "Time: 0.42920804023742676 seconds.\n",
      "\n"
     ]
    },
    {
     "data": {
      "text/plain": [
       "data: Seq[(Int, Int, Int)] = List((1,2,3), (4,5,6), (6,7,8), (9,19,10))\n",
       "ds: org.apache.spark.sql.Dataset[(Int, Int, Int)] = [_1: int, _2: int ... 1 more field]\n"
      ]
     },
     "execution_count": 3,
     "metadata": {},
     "output_type": "execute_result"
    }
   ],
   "source": [
    "%%time\n",
    "val data = Seq((1,2,3), (4,5,6), (6,7,8), (9,19,10))\n",
    "val ds = spark.createDataset(data)\n",
    "ds.show()"
   ]
  },
  {
   "cell_type": "code",
   "execution_count": 4,
   "metadata": {},
   "outputs": [],
   "source": []
  },
  {
   "cell_type": "code",
   "execution_count": null,
   "metadata": {},
   "outputs": [],
   "source": []
  }
 ],
 "metadata": {
  "kernelspec": {
   "display_name": "spylon-kernel",
   "language": "scala",
   "name": "spylon-kernel"
  },
  "language_info": {
   "codemirror_mode": "text/x-scala",
   "file_extension": ".scala",
   "help_links": [
    {
     "text": "MetaKernel Magics",
     "url": "https://metakernel.readthedocs.io/en/latest/source/README.html"
    }
   ],
   "mimetype": "text/x-scala",
   "name": "scala",
   "pygments_lexer": "scala",
   "version": "0.4.1"
  }
 },
 "nbformat": 4,
 "nbformat_minor": 2
}
