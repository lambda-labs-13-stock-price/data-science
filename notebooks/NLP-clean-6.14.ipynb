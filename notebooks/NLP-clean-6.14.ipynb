{
 "cells": [
  {
   "cell_type": "code",
   "execution_count": 15,
   "metadata": {},
   "outputs": [
    {
     "name": "stderr",
     "output_type": "stream",
     "text": [
      "C:\\Users\\mac\\Anaconda3\\lib\\site-packages\\nltk\\twitter\\__init__.py:20: UserWarning: The twython library has not been installed. Some functionality from the twitter package will not be available.\n",
      "  warnings.warn(\"The twython library has not been installed. \"\n"
     ]
    }
   ],
   "source": [
    "import re\n",
    "import nltk\n",
    "from nltk.stem import WordNetLemmatizer\n",
    "import pandas as pd\n",
    "import numpy as np\n",
    "from nltk.sentiment.vader import SentimentIntensityAnalyzer\n",
    "lemmatizer = WordNetLemmatizer()"
   ]
  },
  {
   "cell_type": "code",
   "execution_count": 16,
   "metadata": {},
   "outputs": [],
   "source": [
    "\n",
    "# this whole cell will be automated when pip installed using os library. will modify when deploying to Pypi\n",
    "\n",
    "import ast\n",
    "import numpy as np\n",
    "\n",
    "def create_ci_lexicon(lexicon_file):\n",
    "    \n",
    "    \"\"\"\n",
    "    Takes in an inital lexicon with information on how the final values was derived.\n",
    "    Outputs confidence score for each individual word.\n",
    "    \"\"\"\n",
    "    \n",
    "    df = pd.read_csv(lexicon_file, encoding='cp437', header=None)\n",
    "    \n",
    "    def descriptive(x):\n",
    "        return np.std(ast.literal_eval(x))\n",
    "    \n",
    "    df['std_dev'] = df[3].str.strip(\"'\").apply(descriptive)\n",
    "    \n",
    "    basis = df.std_dev.mean() + 1.5 * df.std_dev.std()\n",
    "    \n",
    "    def normalize_conf(x):\n",
    "        return (x - basis) / basis\n",
    "    \n",
    "    df['norm_conf'] = df.std_dev.apply(normalize_conf)\n",
    "    \n",
    "    return dict(zip(df[[0, 'norm_conf']][0].values, (1 - (df.norm_conf.rank() / df.norm_conf.rank().max()))))\n",
    "\n",
    "ci_lexicon = create_ci_lexicon('vader_lexicon.csv')\n",
    "lexicon = dict(zip(pd.read_csv('vader_lexicon.csv', encoding='cp437', header=None)[[0, 1]].values.T[0], pd.read_csv('vader_lexicon.csv', encoding='cp437', header=None)[[0, 1]].values.T[1]))"
   ]
  },
  {
   "cell_type": "code",
   "execution_count": 17,
   "metadata": {},
   "outputs": [],
   "source": [
    "#Here are a list of words that, when preceding, require us to inverse our score. \n",
    "#\"I like Apple\" has a score of 1.5, but \"I don't like Apple\" would have a score of -1.5 because of the negation\n",
    "negate = \\\n",
    "    [\"aint\", \"arent\", \"cannot\", \"cant\", \"couldnt\", \"darent\", \"didnt\", \"doesnt\",\n",
    "     \"ain't\", \"aren't\", \"can't\", \"couldn't\", \"daren't\", \"didn't\", \"doesn't\",\n",
    "     \"dont\", \"hadnt\", \"hasnt\", \"havent\", \"isnt\", \"mightnt\", \"mustnt\", \"neither\",\n",
    "     \"don't\", \"hadn't\", \"hasn't\", \"haven't\", \"isn't\", \"mightn't\", \"mustn't\",\n",
    "     \"neednt\", \"needn't\", \"never\", \"none\", \"nope\", \"nor\", \"not\", \"nothing\", \"nowhere\",\n",
    "     \"oughtnt\", \"shant\", \"shouldnt\", \"uhuh\", \"wasnt\", \"werent\",\n",
    "     \"oughtn't\", \"shan't\", \"shouldn't\", \"uh-uh\", \"wasn't\", \"weren't\",\n",
    "     \"without\", \"wont\", \"wouldnt\", \"won't\", \"wouldn't\", \"rarely\", \"seldom\", \"despite\"]\n",
    "\n",
    "boost = \\\n",
    "    ['absolutely', 'amazingly', 'awfully', 'completely', 'considerably', 'decidedly', 'deeply', 'effing', 'enormously',\n",
    "     'entirely', 'especially', 'exceptionally', 'extremely', 'fabulously', 'flipping', 'flippin', 'fricking', 'frickin',\n",
    "     'frigging', 'friggin', 'fully', 'fucking', 'greatly', 'hella', 'highly', 'hugely', 'incredibly', 'intensely', 'majorly',\n",
    "     'more', 'most', 'particularly', 'purely', 'quite', 'really', 'remarkably', 'so', 'substantially',\n",
    "     'thoroughly', 'totally', 'tremendously', 'uber', 'unbelievably', 'unusually', 'utterly', 'very', 'almost', 'barely']"
   ]
  },
  {
   "cell_type": "code",
   "execution_count": 18,
   "metadata": {},
   "outputs": [],
   "source": [
    "class PreprocessText(object):\n",
    "    \"\"\"\n",
    "    Sentiment relevant text properties. \n",
    "    \"\"\"\n",
    "\n",
    "    def __init__(self, text):\n",
    "\n",
    "        self.text = text\n",
    "        self.clean_text = self._clean_text()\n",
    "\n",
    "    def _clean_text(self):\n",
    "\n",
    "        wordz = self.text.split()\n",
    "\n",
    "        lemmatizer = WordNetLemmatizer()\n",
    "        words = []\n",
    "        for word in wordz:\n",
    "            words.append(lemmatizer.lemmatize(word))\n",
    "\n",
    "        return words"
   ]
  },
  {
   "cell_type": "code",
   "execution_count": 95,
   "metadata": {},
   "outputs": [],
   "source": [
    "class Sentiment(object):\n",
    "    \"\"\"\n",
    "    Sentiment Analyzer\n",
    "    \"\"\"\n",
    "\n",
    "\n",
    "    def __init__(self):\n",
    "\n",
    "        self.lexicon = lexicon\n",
    "        self.negate = negate\n",
    "        self.ci_lexicon = ci_lexicon\n",
    "            \n",
    "    def score(self, text):\n",
    "\n",
    "        words = PreprocessText(text).clean_text\n",
    "        sentiments = []\n",
    "        confidences = []\n",
    "        for item in words:\n",
    "            sentiments, confidences = self.sentiment_polarity(item, sentiments, confidences, words)\n",
    "        score_interval = self.final_calculation(sentiments, confidences)\n",
    "        \n",
    "        return {'score': score_interval[0], 'confidence_interval': score_interval[1]}\n",
    "        \n",
    "    def sentiment_polarity(self, item, sentiments, confidences, words):\n",
    "        #Checks the average sentiment score by querying our lexicon\n",
    "        item_lowercase = item.lower()\n",
    "        if item_lowercase in self.lexicon:\n",
    "            weight = self.lexicon[item_lowercase] / 5 \n",
    "            final_weight = self.negation_check(words, item, weight)\n",
    "            confidence_score = self.ci_lexicon[item_lowercase]\n",
    "            confidence_calc = self.confidence_calc(final_weight, confidence_score)\n",
    "            sentiments.append(final_weight)\n",
    "            confidences.append(confidence_calc)\n",
    "        return sentiments, confidences\n",
    "    \n",
    "    \n",
    "    def final_calculation(self, sentiments, confidences):\n",
    "        #Applies all final calculations to get the final sentiment score\n",
    "        \n",
    "        if len(sentiments) == 0:\n",
    "            final_calc = 0\n",
    "            return final_calc, (0, 0)\n",
    "        else:\n",
    "            final_calc = sum(sentiments) / len(sentiments)\n",
    "        \n",
    "        count = 0\n",
    "        upper = 0\n",
    "        lower = 0\n",
    "        for interv in confidences:\n",
    "            upper += interv[1]\n",
    "            lower += interv[0]\n",
    "            count += 1\n",
    "        \n",
    "        return final_calc, (lower/count, upper/count)\n",
    "    \n",
    "    def negation_check(self, words, item, weight):\n",
    "        #Checks to see if there is a negation word in the words\n",
    "        #\"I love apples = 3.2\"\n",
    "        #\"I don't love apples = -3.2\"\n",
    "        neg_coef = 1\n",
    "        lexicon_index = words.index(item)\n",
    "        preceding_word = words[lexicon_index - 1]\n",
    "        if preceding_word in self.negate:\n",
    "            neg_coef = -1\n",
    "        final_weight = weight * neg_coef\n",
    "        return final_weight\n",
    "    \n",
    "    def confidence_calc(self, final_weight, confidence_score): \n",
    "        \n",
    "        if final_weight >= 0:\n",
    "            upper = final_weight + (1 - confidence_score) * final_weight\n",
    "            lower = final_weight - (1 - confidence_score) * final_weight\n",
    "        else: \n",
    "            lower = final_weight + (1 - confidence_score) * final_weight\n",
    "            upper = final_weight - (1 - confidence_score) * final_weight\n",
    "        return (lower, upper)\n",
    "        \n",
    "    "
   ]
  },
  {
   "cell_type": "code",
   "execution_count": 96,
   "metadata": {},
   "outputs": [],
   "source": [
    "t = \"\"\"Turning to the wholesale channel, revenue was down 4% related to the shift in timing of shipments\n",
    "as we said last quarter. As stated earlier, our brand is performing well at both Neiman Marcus and Nordstrom\n",
    "as well as across our specialty retail and third-party e-commerce partners globally\"\"\""
   ]
  },
  {
   "cell_type": "code",
   "execution_count": 97,
   "metadata": {},
   "outputs": [
    {
     "name": "stdout",
     "output_type": "stream",
     "text": [
      "{'neg': 0.0, 'neu': 0.916, 'pos': 0.084, 'compound': 0.4939}\n",
      "Wall time: 19.9 ms\n"
     ]
    }
   ],
   "source": [
    "%%time\n",
    "\n",
    "sid = SentimentIntensityAnalyzer()\n",
    "\n",
    "print(sid.polarity_scores(t))"
   ]
  },
  {
   "cell_type": "code",
   "execution_count": 98,
   "metadata": {},
   "outputs": [
    {
     "name": "stdout",
     "output_type": "stream",
     "text": [
      "{'score': 0.22000000000000003, 'confidence_interval': (0.06074364773180793, 0.3792563522681921)}\n",
      "Wall time: 998 µs\n"
     ]
    }
   ],
   "source": [
    "%%time\n",
    "analyzer = Sentiment()\n",
    "print(analyzer.score(t))"
   ]
  },
  {
   "cell_type": "code",
   "execution_count": 99,
   "metadata": {},
   "outputs": [
    {
     "data": {
      "image/png": "[encoded data removed]",
      "text/plain": [
       "<Figure size 432x288 with 1 Axes>"
      ]
     },
     "metadata": {},
     "output_type": "display_data"
    }
   ],
   "source": [
    "import matplotlib.pyplot as plt\n",
    "pd.Series(ci_lexicon).plot.density()\n",
    "plt.axvline(pd.Series(ci_lexicon).quantile(.975), color='black')\n",
    "plt.axvline(pd.Series(ci_lexicon).quantile(.025), color='black');"
   ]
  },
  {
   "cell_type": "code",
   "execution_count": 1,
   "metadata": {},
   "outputs": [
    {
     "name": "stdout",
     "output_type": "stream",
     "text": [
      "Requirement already up-to-date: pip in c:\\users\\mac\\anaconda3\\lib\\site-packages (19.1.1)\n",
      "Requirement already satisfied: seaborn==0.9.0 in c:\\users\\mac\\anaconda3\\lib\\site-packages (0.9.0)\n",
      "Requirement already satisfied: numpy>=1.9.3 in c:\\users\\mac\\anaconda3\\lib\\site-packages (from seaborn==0.9.0) (1.16.4)\n",
      "Requirement already satisfied: pandas>=0.15.2 in c:\\users\\mac\\anaconda3\\lib\\site-packages (from seaborn==0.9.0) (0.22.0)\n",
      "Requirement already satisfied: scipy>=0.14.0 in c:\\users\\mac\\anaconda3\\lib\\site-packages (from seaborn==0.9.0) (1.1.0)\n",
      "Requirement already satisfied: matplotlib>=1.4.3 in c:\\users\\mac\\anaconda3\\lib\\site-packages (from seaborn==0.9.0) (2.2.2)\n",
      "Requirement already satisfied: pytz>=2011k in c:\\users\\mac\\anaconda3\\lib\\site-packages (from pandas>=0.15.2->seaborn==0.9.0) (2018.4)\n",
      "Requirement already satisfied: python-dateutil>=2 in c:\\users\\mac\\anaconda3\\lib\\site-packages (from pandas>=0.15.2->seaborn==0.9.0) (2.7.3)\n",
      "Requirement already satisfied: cycler>=0.10 in c:\\users\\mac\\anaconda3\\lib\\site-packages (from matplotlib>=1.4.3->seaborn==0.9.0) (0.10.0)\n",
      "Requirement already satisfied: pyparsing!=2.0.4,!=2.1.2,!=2.1.6,>=2.0.1 in c:\\users\\mac\\anaconda3\\lib\\site-packages (from matplotlib>=1.4.3->seaborn==0.9.0) (2.2.0)\n",
      "Requirement already satisfied: six>=1.10 in c:\\users\\mac\\anaconda3\\lib\\site-packages (from matplotlib>=1.4.3->seaborn==0.9.0) (1.11.0)\n",
      "Requirement already satisfied: kiwisolver>=1.0.1 in c:\\users\\mac\\anaconda3\\lib\\site-packages (from matplotlib>=1.4.3->seaborn==0.9.0) (1.0.1)\n",
      "Requirement already satisfied: setuptools in c:\\users\\mac\\anaconda3\\lib\\site-packages (from kiwisolver>=1.0.1->matplotlib>=1.4.3->seaborn==0.9.0) (39.1.0)\n"
     ]
    }
   ],
   "source": [
    "!python -m pip install --upgrade pip\n",
    "!pip install seaborn==0.9.0"
   ]
  },
  {
   "cell_type": "code",
   "execution_count": 100,
   "metadata": {},
   "outputs": [
    {
     "data": {
      "image/png": "[encoded data removed]",
      "text/plain": [
       "<Figure size 432x288 with 1 Axes>"
      ]
     },
     "metadata": {},
     "output_type": "display_data"
    }
   ],
   "source": [
    "import matplotlib.pyplot as plt\n",
    "import seaborn as sns\n",
    "# add plotting functionality to our sentiment model.\n",
    "x = [1,2,3]\n",
    "y = [1,2,3]\n",
    "z = [3,4,5]\n",
    "sns.lineplot(x, y)\n",
    "sns.lineplot(x, z);"
   ]
  },
  {
   "cell_type": "code",
   "execution_count": 101,
   "metadata": {},
   "outputs": [],
   "source": [
    "import pandas as pd\n",
    "df = pd.read_csv('trading-tweets.csv')"
   ]
  },
  {
   "cell_type": "code",
   "execution_count": 102,
   "metadata": {},
   "outputs": [
    {
     "data": {
      "text/html": [
       "<div>\n",
       "<style scoped>\n",
       "    .dataframe tbody tr th:only-of-type {\n",
       "        vertical-align: middle;\n",
       "    }\n",
       "\n",
       "    .dataframe tbody tr th {\n",
       "        vertical-align: top;\n",
       "    }\n",
       "\n",
       "    .dataframe thead th {\n",
       "        text-align: right;\n",
       "    }\n",
       "</style>\n",
       "<table border=\"1\" class=\"dataframe\">\n",
       "  <thead>\n",
       "    <tr style=\"text-align: right;\">\n",
       "      <th></th>\n",
       "      <th>Unnamed: 0</th>\n",
       "      <th>text</th>\n",
       "      <th>time</th>\n",
       "    </tr>\n",
       "  </thead>\n",
       "  <tbody>\n",
       "    <tr>\n",
       "      <th>0</th>\n",
       "      <td>0</td>\n",
       "      <td>Hoy nos toca irnos en negativo 1,25. Un mercad...</td>\n",
       "      <td>6/13/2019 17:04</td>\n",
       "    </tr>\n",
       "    <tr>\n",
       "      <th>1</th>\n",
       "      <td>1</td>\n",
       "      <td>🏄  #GBPUSD Head &amp;amp; Shoulders Pattern Challe...</td>\n",
       "      <td>6/13/2019 17:04</td>\n",
       "    </tr>\n",
       "    <tr>\n",
       "      <th>2</th>\n",
       "      <td>2</td>\n",
       "      <td>$SPX #stock $AVGO highlights the very short li...</td>\n",
       "      <td>6/13/2019 17:03</td>\n",
       "    </tr>\n",
       "    <tr>\n",
       "      <th>3</th>\n",
       "      <td>3</td>\n",
       "      <td>As we always said, there are traders and then ...</td>\n",
       "      <td>6/13/2019 17:03</td>\n",
       "    </tr>\n",
       "    <tr>\n",
       "      <th>4</th>\n",
       "      <td>4</td>\n",
       "      <td>RT @EarnsBit: Hello Community!\\r\\nWe are happy...</td>\n",
       "      <td>6/13/2019 17:03</td>\n",
       "    </tr>\n",
       "  </tbody>\n",
       "</table>\n",
       "</div>"
      ],
      "text/plain": [
       "  Unnamed: 0                                               text  \\\n",
       "0          0  Hoy nos toca irnos en negativo 1,25. Un mercad...   \n",
       "1          1  🏄  #GBPUSD Head &amp; Shoulders Pattern Challe...   \n",
       "2          2  $SPX #stock $AVGO highlights the very short li...   \n",
       "3          3  As we always said, there are traders and then ...   \n",
       "4          4  RT @EarnsBit: Hello Community!\\r\\nWe are happy...   \n",
       "\n",
       "              time  \n",
       "0  6/13/2019 17:04  \n",
       "1  6/13/2019 17:04  \n",
       "2  6/13/2019 17:03  \n",
       "3  6/13/2019 17:03  \n",
       "4  6/13/2019 17:03  "
      ]
     },
     "execution_count": 102,
     "metadata": {},
     "output_type": "execute_result"
    }
   ],
   "source": [
    "df.head()"
   ]
  },
  {
   "cell_type": "code",
   "execution_count": 103,
   "metadata": {},
   "outputs": [],
   "source": [
    "model = Sentiment()\n",
    "def vectorized_sentiment(text):\n",
    "    try:\n",
    "        return model.score(text)\n",
    "    except:\n",
    "        return 0\n",
    "\n",
    "df['scores'] = df.text.apply(vectorized_sentiment)"
   ]
  },
  {
   "cell_type": "code",
   "execution_count": 104,
   "metadata": {},
   "outputs": [],
   "source": [
    "bitcoin = df[(df.text.str.lower().str.contains('btc') | df.text.str.lower().str.contains('bitcoin'))]"
   ]
  },
  {
   "cell_type": "code",
   "execution_count": 105,
   "metadata": {},
   "outputs": [],
   "source": [
    "bitcoin = bitcoin[bitcoin.scores.apply(lambda x: x['score']) != 0]"
   ]
  },
  {
   "cell_type": "code",
   "execution_count": 106,
   "metadata": {},
   "outputs": [],
   "source": [
    "bitcoin.time = pd.to_datetime(bitcoin.time)"
   ]
  },
  {
   "cell_type": "code",
   "execution_count": 107,
   "metadata": {},
   "outputs": [],
   "source": [
    "df = bitcoin.copy()"
   ]
  },
  {
   "cell_type": "code",
   "execution_count": 108,
   "metadata": {},
   "outputs": [
    {
     "name": "stderr",
     "output_type": "stream",
     "text": [
      "C:\\Users\\mac\\Anaconda3\\lib\\site-packages\\scipy\\stats\\stats.py:1713: FutureWarning: Using a non-tuple sequence for multidimensional indexing is deprecated; use `arr[tuple(seq)]` instead of `arr[seq]`. In the future this will be interpreted as an array index, `arr[np.array(seq)]`, which will result either in an error or a different result.\n",
      "  return np.add.reduce(sorted[indexer] * weights, axis=axis) / sumval\n"
     ]
    },
    {
     "data": {
      "text/plain": [
       "<matplotlib.axes._subplots.AxesSubplot at 0x24050b8cac8>"
      ]
     },
     "execution_count": 108,
     "metadata": {},
     "output_type": "execute_result"
    },
    {
     "data": {
      "image/png": "[encoded data removed]",
      "text/plain": [
       "<Figure size 432x288 with 1 Axes>"
      ]
     },
     "metadata": {},
     "output_type": "display_data"
    }
   ],
   "source": [
    "x = df.time.values\n",
    "y = df.scores.apply(lambda x: x['score']).values\n",
    "\n",
    "sns.lineplot(x=x, y=y)"
   ]
  },
  {
   "cell_type": "code",
   "execution_count": 109,
   "metadata": {},
   "outputs": [],
   "source": [
    "df['sentiment_score'] = df.scores.apply(lambda x: x['score'])\n",
    "df['lower_bound'] = df.scores.apply(lambda x: x['confidence_interval'][0])\n",
    "df['upper_bound'] = df.scores.apply(lambda x: x['confidence_interval'][1])"
   ]
  },
  {
   "cell_type": "code",
   "execution_count": 110,
   "metadata": {},
   "outputs": [],
   "source": [
    "grouped = df.groupby(df.time.dt.date).mean()"
   ]
  },
  {
   "cell_type": "code",
   "execution_count": 176,
   "metadata": {},
   "outputs": [
    {
     "data": {
      "image/png": "[encoded data removed]",
      "text/plain": [
       "<Figure size 432x288 with 1 Axes>"
      ]
     },
     "metadata": {},
     "output_type": "display_data"
    }
   ],
   "source": [
    "grouped.head()\n",
    "\n",
    "z = pd.Series((pd.read_csv('BTC-USD.csv').Close.values - pd.read_csv('BTC-USD.csv').Close.values.mean()) / pd.read_csv('BTC-USD.csv').Close.values.mean()).values\n",
    "\n",
    "sns.lineplot(x=grouped.index, y=grouped.lower_bound, color='red')\n",
    "sns.lineplot(x=grouped.index, y=grouped.upper_bound, color='red')\n",
    "#sns.lineplot(x=grouped.index, y=z)\n",
    "plt.ylim(-.1, .5)\n",
    "plt.fill_between(grouped.index, y1=grouped.lower_bound, y2=grouped.upper_bound, color='gray', alpha=.25)\n",
    "sns.lineplot(x=grouped.index, y=grouped.sentiment_score, color='black')\n",
    "plt.title('Bitcoin sentiment from June 3rd - June 13th', fontsize=15);"
   ]
  },
  {
   "cell_type": "code",
   "execution_count": 171,
   "metadata": {},
   "outputs": [
    {
     "data": {
      "text/html": [
       "<div>\n",
       "<style scoped>\n",
       "    .dataframe tbody tr th:only-of-type {\n",
       "        vertical-align: middle;\n",
       "    }\n",
       "\n",
       "    .dataframe tbody tr th {\n",
       "        vertical-align: top;\n",
       "    }\n",
       "\n",
       "    .dataframe thead th {\n",
       "        text-align: right;\n",
       "    }\n",
       "</style>\n",
       "<table border=\"1\" class=\"dataframe\">\n",
       "  <thead>\n",
       "    <tr style=\"text-align: right;\">\n",
       "      <th></th>\n",
       "      <th>sentiment_score</th>\n",
       "      <th>lower_bound</th>\n",
       "      <th>upper_bound</th>\n",
       "      <th>scores_vader</th>\n",
       "      <th>combined</th>\n",
       "    </tr>\n",
       "    <tr>\n",
       "      <th>time</th>\n",
       "      <th></th>\n",
       "      <th></th>\n",
       "      <th></th>\n",
       "      <th></th>\n",
       "      <th></th>\n",
       "    </tr>\n",
       "  </thead>\n",
       "  <tbody>\n",
       "    <tr>\n",
       "      <th>2019-06-03</th>\n",
       "      <td>0.064412</td>\n",
       "      <td>-0.054878</td>\n",
       "      <td>0.183701</td>\n",
       "      <td>0.080853</td>\n",
       "      <td>0.072632</td>\n",
       "    </tr>\n",
       "    <tr>\n",
       "      <th>2019-06-04</th>\n",
       "      <td>0.072461</td>\n",
       "      <td>-0.032634</td>\n",
       "      <td>0.177556</td>\n",
       "      <td>0.047781</td>\n",
       "      <td>0.060121</td>\n",
       "    </tr>\n",
       "    <tr>\n",
       "      <th>2019-06-05</th>\n",
       "      <td>0.086713</td>\n",
       "      <td>-0.024614</td>\n",
       "      <td>0.198039</td>\n",
       "      <td>0.074002</td>\n",
       "      <td>0.080357</td>\n",
       "    </tr>\n",
       "    <tr>\n",
       "      <th>2019-06-06</th>\n",
       "      <td>0.082408</td>\n",
       "      <td>-0.023801</td>\n",
       "      <td>0.188617</td>\n",
       "      <td>0.073222</td>\n",
       "      <td>0.077815</td>\n",
       "    </tr>\n",
       "    <tr>\n",
       "      <th>2019-06-07</th>\n",
       "      <td>0.064871</td>\n",
       "      <td>-0.032857</td>\n",
       "      <td>0.162598</td>\n",
       "      <td>0.060865</td>\n",
       "      <td>0.062868</td>\n",
       "    </tr>\n",
       "    <tr>\n",
       "      <th>2019-06-08</th>\n",
       "      <td>0.108183</td>\n",
       "      <td>-0.003651</td>\n",
       "      <td>0.220018</td>\n",
       "      <td>0.111735</td>\n",
       "      <td>0.109959</td>\n",
       "    </tr>\n",
       "    <tr>\n",
       "      <th>2019-06-09</th>\n",
       "      <td>0.223137</td>\n",
       "      <td>0.075285</td>\n",
       "      <td>0.370989</td>\n",
       "      <td>0.288345</td>\n",
       "      <td>0.255741</td>\n",
       "    </tr>\n",
       "    <tr>\n",
       "      <th>2019-06-10</th>\n",
       "      <td>0.189350</td>\n",
       "      <td>0.051441</td>\n",
       "      <td>0.327258</td>\n",
       "      <td>0.258938</td>\n",
       "      <td>0.224144</td>\n",
       "    </tr>\n",
       "    <tr>\n",
       "      <th>2019-06-11</th>\n",
       "      <td>0.254223</td>\n",
       "      <td>0.104691</td>\n",
       "      <td>0.403756</td>\n",
       "      <td>0.397406</td>\n",
       "      <td>0.325815</td>\n",
       "    </tr>\n",
       "    <tr>\n",
       "      <th>2019-06-12</th>\n",
       "      <td>0.211543</td>\n",
       "      <td>0.078032</td>\n",
       "      <td>0.345053</td>\n",
       "      <td>0.325006</td>\n",
       "      <td>0.268274</td>\n",
       "    </tr>\n",
       "    <tr>\n",
       "      <th>2019-06-13</th>\n",
       "      <td>0.210404</td>\n",
       "      <td>0.063000</td>\n",
       "      <td>0.357808</td>\n",
       "      <td>0.345993</td>\n",
       "      <td>0.278198</td>\n",
       "    </tr>\n",
       "  </tbody>\n",
       "</table>\n",
       "</div>"
      ],
      "text/plain": [
       "            sentiment_score  lower_bound  upper_bound  scores_vader  combined\n",
       "time                                                                         \n",
       "2019-06-03         0.064412    -0.054878     0.183701      0.080853  0.072632\n",
       "2019-06-04         0.072461    -0.032634     0.177556      0.047781  0.060121\n",
       "2019-06-05         0.086713    -0.024614     0.198039      0.074002  0.080357\n",
       "2019-06-06         0.082408    -0.023801     0.188617      0.073222  0.077815\n",
       "2019-06-07         0.064871    -0.032857     0.162598      0.060865  0.062868\n",
       "2019-06-08         0.108183    -0.003651     0.220018      0.111735  0.109959\n",
       "2019-06-09         0.223137     0.075285     0.370989      0.288345  0.255741\n",
       "2019-06-10         0.189350     0.051441     0.327258      0.258938  0.224144\n",
       "2019-06-11         0.254223     0.104691     0.403756      0.397406  0.325815\n",
       "2019-06-12         0.211543     0.078032     0.345053      0.325006  0.268274\n",
       "2019-06-13         0.210404     0.063000     0.357808      0.345993  0.278198"
      ]
     },
     "execution_count": 171,
     "metadata": {},
     "output_type": "execute_result"
    }
   ],
   "source": [
    "grouped"
   ]
  },
  {
   "cell_type": "code",
   "execution_count": 117,
   "metadata": {},
   "outputs": [
    {
     "data": {
      "text/plain": [
       "count    2617.000000\n",
       "mean        0.130956\n",
       "std         0.247411\n",
       "min        -0.680000\n",
       "25%        -0.080000\n",
       "50%         0.160000\n",
       "75%         0.300000\n",
       "max         0.640000\n",
       "Name: sentiment_score, dtype: float64"
      ]
     },
     "execution_count": 117,
     "metadata": {},
     "output_type": "execute_result"
    }
   ],
   "source": [
    "df.sentiment_score.describe()"
   ]
  },
  {
   "cell_type": "code",
   "execution_count": 118,
   "metadata": {},
   "outputs": [
    {
     "data": {
      "text/plain": [
       "array([ 0.02243007, -0.03263468, -0.01829332, -0.01626852,  0.00833561,\n",
       "       -0.00033954, -0.03692251,  0.01065026, -0.0024135 ,  0.02994599,\n",
       "        0.03551014])"
      ]
     },
     "execution_count": 118,
     "metadata": {},
     "output_type": "execute_result"
    }
   ],
   "source": [
    "pd.Series((pd.read_csv('BTC-USD.csv').Close.values - pd.read_csv('BTC-USD.csv').Close.values.mean()) / pd.read_csv('BTC-USD.csv').Close.values.mean()).values"
   ]
  },
  {
   "cell_type": "code",
   "execution_count": 119,
   "metadata": {},
   "outputs": [
    {
     "data": {
      "text/plain": [
       "array([[1.        , 0.20088342],\n",
       "       [0.20088342, 1.        ]])"
      ]
     },
     "execution_count": 119,
     "metadata": {},
     "output_type": "execute_result"
    }
   ],
   "source": [
    "np.corrcoef(grouped.sentiment_score, z)"
   ]
  },
  {
   "cell_type": "code",
   "execution_count": 120,
   "metadata": {},
   "outputs": [
    {
     "data": {
      "text/plain": [
       "{'score': 0.64,\n",
       " 'confidence_interval': (0.6263349740588001, 0.6536650259411999)}"
      ]
     },
     "execution_count": 120,
     "metadata": {},
     "output_type": "execute_result"
    }
   ],
   "source": [
    "Sentiment().score('i really love cats')"
   ]
  },
  {
   "cell_type": "code",
   "execution_count": 156,
   "metadata": {},
   "outputs": [],
   "source": [
    "model = Sentiment()\n",
    "def vectorized_sentiment(text):\n",
    "    try:\n",
    "        return sid.polarity_scores(text)['compound']\n",
    "    except:\n",
    "        return 0\n",
    "\n",
    "df['scores_vader'] = df.text.apply(vectorized_sentiment)"
   ]
  },
  {
   "cell_type": "code",
   "execution_count": 158,
   "metadata": {},
   "outputs": [],
   "source": [
    "grouped = df.groupby(df.time.dt.date).mean()"
   ]
  },
  {
   "cell_type": "code",
   "execution_count": 163,
   "metadata": {},
   "outputs": [
    {
     "data": {
      "text/plain": [
       "array([[1.        , 0.34705013],\n",
       "       [0.34705013, 1.        ]])"
      ]
     },
     "execution_count": 163,
     "metadata": {},
     "output_type": "execute_result"
    }
   ],
   "source": [
    "np.corrcoef(grouped.scores_vader, z)"
   ]
  },
  {
   "cell_type": "code",
   "execution_count": 164,
   "metadata": {},
   "outputs": [],
   "source": [
    "grouped['combined'] = (grouped.scores_vader + grouped.sentiment_score) / 2"
   ]
  },
  {
   "cell_type": "code",
   "execution_count": 166,
   "metadata": {},
   "outputs": [
    {
     "data": {
      "text/plain": [
       "array([[1.        , 0.29610397],\n",
       "       [0.29610397, 1.        ]])"
      ]
     },
     "execution_count": 166,
     "metadata": {},
     "output_type": "execute_result"
    }
   ],
   "source": [
    "np.corrcoef(grouped.combined, z)"
   ]
  },
  {
   "cell_type": "code",
   "execution_count": 181,
   "metadata": {},
   "outputs": [
    {
     "data": {
      "text/plain": [
       "55       [Trading, Bitcoin, -, Broke, Out, as, Expected...\n",
       "71       [RT, @CoinSense101:, $NEO, is, about, to, brea...\n",
       "83       [#RT, BitCoinAlertBot:, #BTC, has, risen, by, ...\n",
       "122      [$NEO, is, about, to, break, out, ,, Targets, ...\n",
       "134      [RT, @CopilotThe:, #Bitcoin, putting, a, lot, ...\n",
       "145      [RT, @murthaburke:, From, June, 1st, to, July,...\n",
       "160      [RT, @CreditTerra:, Credit, Trading, Competiti...\n",
       "181      [$BTC_F, (Bitcoin, Futures, on, CME), High, Po...\n",
       "182      [👉@BravadoTrading, has, the, right, attitude.,...\n",
       "184      [RT, @murthaburke:, From, June, 1st, to, July,...\n",
       "204      [Let’s, go, $WAVES,, need, some, volume, but, ...\n",
       "205      [No, one, believed, in, Bitcoin, at, this, tim...\n",
       "227      [Top, 5, #cryptocurrencies, Alert, Time:, 2019...\n",
       "237      [Bitcoin, Holders', Profits, Equal, that, of, ...\n",
       "295      [Bitcoin, ETF, approval, delayed, again?!, Tel...\n",
       "321      [RT, @murthaburke:, From, June, 1st, to, July,...\n",
       "339      [Top, 5, #cryptocurrencies, Alert, Time:, 2019...\n",
       "372      [#RT, BitCoinAlertBot:, #BTC, has, risen, by, ...\n",
       "387      [Top, 5, #cryptocurrencies, Alert, Time:, 2019...\n",
       "471      [RT, @murthaburke:, From, June, 1st, to, July,...\n",
       "483      [RT, @CreditTerra:, We, are, proud, to, announ...\n",
       "530      [RT, @murthaburke:, From, June, 1st, to, July,...\n",
       "532      [this, site, is, worth, 133k, https://t.co/DYb...\n",
       "588      [#Bitcoin, putting, a, lot, of, pressure, agai...\n",
       "621      [RT, @CreditTerra:, Credit, Trading, Competiti...\n",
       "650      [#CryptoCAP, Global, #MarketCAP, -, Tradingvie...\n",
       "675      [RT, @CRESIOcoin:, BECAUSE, WE'RE, DIFFERENT.,...\n",
       "685      [Learn, How, to, Trade, #Bitcoin:, The, Most, ...\n",
       "712      [#RT, BitCoinAlertBot:, #BTC, has, risen, by, ...\n",
       "720      [Top, 5, #cryptocurrencies, Alert, Time:, 2019...\n",
       "                               ...                        \n",
       "45285    [🔄, Prices, update, in, $EUR, (1, hour):, $BTC...\n",
       "45288    [🔄, Prices, update, in, $USDT, (1, hour):, $BT...\n",
       "45319    [Pretty, much, covers, everything, 😅, #crypto,...\n",
       "45325    [🔄, Prices, update, in, $USD, (1, hour):, $BTC...\n",
       "45348    [HLX, #Vaultmex, Price, Alert, Time:, 2019-06-...\n",
       "45352    [#BTCUSD, Market, #1H, timeframe, on, June, 3,...\n",
       "45376    [This, is, how, trading, makes, you, loose, al...\n",
       "45392    [RT, @CRESIOcoin:, BECAUSE, WE'RE, DIFFERENT.,...\n",
       "45398    [🔄, Prices, update, in, $USD, (1, hour):, $BTC...\n",
       "45446    [Tron, CEO, Pays, $4.5, Million, to, Give, War...\n",
       "45450    [RT, @trx_legacy:, Join, telegram, group!, htt...\n",
       "45456    [🔄, Prices, update, in, $USDT, (1, hour):, $BT...\n",
       "45459    [We, Provide, 90%, accurate, Best, #Forex, &am...\n",
       "45467    [RT, @CreditTerra:, We, are, proud, to, announ...\n",
       "45471    [$BTC_F, (Bitcoin, Futures, on, CME), High, Po...\n",
       "45480    [🔄, Prices, update, in, $EUR, (1, hour):, $BTC...\n",
       "45494    [🔄, Prices, update, in, $USDT, (1, hour):, $BT...\n",
       "45504    [RT, @_TokenNews:, Bull, Fatigue,, Bitcoin, SV...\n",
       "45505    [Bull, Fatigue,, Bitcoin, SV, Trading, Like, a...\n",
       "45509    [Join, in, on, FreeBitcoin, for, a, roll, and,...\n",
       "45525    [🔄, Prices, update, in, $USD, (1, hour):, $BTC...\n",
       "45545    [Top, 5, #cryptocurrencies, Alert, Time:, 2019...\n",
       "45577    [RT, @CreditTerra:, We, are, proud, to, announ...\n",
       "45597    [🔄, Prices, update, in, $USD, (1, hour):, $BTC...\n",
       "45600    [RT, @CRESIOcoin:, BECAUSE, WE'RE, DIFFERENT.,...\n",
       "45601    [BECAUSE, WE'RE, DIFFERENT., SOLUTIONS, THAT, ...\n",
       "45644    [Lembra, da, polêmica, Bitcoin, SV?, Nos, últi...\n",
       "45678    [🔄, Prices, update, in, $EUR, (1, hour):, $BTC...\n",
       "45712    [RT, @CRESIOcoin:, BECAUSE, WE'RE, DIFFERENT.,...\n",
       "45717    [🔄, Prices, update, in, $USD, (1, hour):, $BTC...\n",
       "Name: text, Length: 2617, dtype: object"
      ]
     },
     "execution_count": 181,
     "metadata": {},
     "output_type": "execute_result"
    }
   ],
   "source": [
    "df.text.str.split()"
   ]
  },
  {
   "cell_type": "code",
   "execution_count": 173,
   "metadata": {},
   "outputs": [
    {
     "data": {
      "text/plain": [
       "{'score': 0, 'confidence_interval': (0, 0)}"
      ]
     },
     "execution_count": 173,
     "metadata": {},
     "output_type": "execute_result"
    }
   ],
   "source": [
    "analyzer.score('hi cole')"
   ]
  },
  {
   "cell_type": "code",
   "execution_count": 196,
   "metadata": {},
   "outputs": [
    {
     "data": {
      "text/plain": [
       "55       None\n",
       "71       None\n",
       "83       None\n",
       "122      None\n",
       "134      None\n",
       "145      None\n",
       "160      None\n",
       "181      None\n",
       "182      None\n",
       "184      None\n",
       "204      None\n",
       "205      None\n",
       "227      None\n",
       "237      None\n",
       "295      None\n",
       "321      None\n",
       "339      None\n",
       "372      None\n",
       "387      None\n",
       "471      None\n",
       "483      None\n",
       "530      None\n",
       "532      None\n",
       "588      None\n",
       "621      None\n",
       "650      None\n",
       "675      None\n",
       "685      None\n",
       "712      None\n",
       "720      None\n",
       "         ... \n",
       "45285    None\n",
       "45288    None\n",
       "45319    None\n",
       "45325    None\n",
       "45348    None\n",
       "45352    None\n",
       "45376    None\n",
       "45392    None\n",
       "45398    None\n",
       "45446    None\n",
       "45450    None\n",
       "45456    None\n",
       "45459    None\n",
       "45467    None\n",
       "45471    None\n",
       "45480    None\n",
       "45494    None\n",
       "45504    None\n",
       "45505    None\n",
       "45509    None\n",
       "45525    None\n",
       "45545    None\n",
       "45577    None\n",
       "45597    None\n",
       "45600    None\n",
       "45601    None\n",
       "45644    None\n",
       "45678    None\n",
       "45712    None\n",
       "45717    None\n",
       "Name: text, Length: 2617, dtype: object"
      ]
     },
     "execution_count": 196,
     "metadata": {},
     "output_type": "execute_result"
    }
   ],
   "source": [
    "vocab = {}\n",
    "\n",
    "def loop_words(lst_of_words):\n",
    "    \n",
    "    for word in lst_of_words:\n",
    "        try:\n",
    "            vocab[word] += 1\n",
    "            \n",
    "        except:\n",
    "            vocab[word] = 1\n",
    "    \n",
    "df.text.str.lower().str.split().apply(loop_words)"
   ]
  },
  {
   "cell_type": "code",
   "execution_count": 206,
   "metadata": {},
   "outputs": [],
   "source": [
    "word_counts = pd.DataFrame({'words':list(vocab.keys()), 'counts': list(vocab.values())}).sort_values('counts', ascending=False)"
   ]
  },
  {
   "cell_type": "code",
   "execution_count": 207,
   "metadata": {},
   "outputs": [
    {
     "data": {
      "text/html": [
       "<div>\n",
       "<style scoped>\n",
       "    .dataframe tbody tr th:only-of-type {\n",
       "        vertical-align: middle;\n",
       "    }\n",
       "\n",
       "    .dataframe tbody tr th {\n",
       "        vertical-align: top;\n",
       "    }\n",
       "\n",
       "    .dataframe thead th {\n",
       "        text-align: right;\n",
       "    }\n",
       "</style>\n",
       "<table border=\"1\" class=\"dataframe\">\n",
       "  <thead>\n",
       "    <tr style=\"text-align: right;\">\n",
       "      <th></th>\n",
       "      <th>counts</th>\n",
       "      <th>words</th>\n",
       "    </tr>\n",
       "  </thead>\n",
       "  <tbody>\n",
       "    <tr>\n",
       "      <th>2</th>\n",
       "      <td>2133</td>\n",
       "      <td>-</td>\n",
       "    </tr>\n",
       "    <tr>\n",
       "      <th>1309</th>\n",
       "      <td>1448</td>\n",
       "      <td>$</td>\n",
       "    </tr>\n",
       "    <tr>\n",
       "      <th>2922</th>\n",
       "      <td>1389</td>\n",
       "      <td>%)</td>\n",
       "    </tr>\n",
       "    <tr>\n",
       "      <th>39</th>\n",
       "      <td>1019</td>\n",
       "      <td>in</td>\n",
       "    </tr>\n",
       "    <tr>\n",
       "      <th>29</th>\n",
       "      <td>1013</td>\n",
       "      <td>$btc</td>\n",
       "    </tr>\n",
       "    <tr>\n",
       "      <th>40</th>\n",
       "      <td>829</td>\n",
       "      <td>the</td>\n",
       "    </tr>\n",
       "    <tr>\n",
       "      <th>15</th>\n",
       "      <td>751</td>\n",
       "      <td>rt</td>\n",
       "    </tr>\n",
       "    <tr>\n",
       "      <th>31</th>\n",
       "      <td>697</td>\n",
       "      <td>#bitcoin</td>\n",
       "    </tr>\n",
       "    <tr>\n",
       "      <th>30</th>\n",
       "      <td>674</td>\n",
       "      <td>$eth</td>\n",
       "    </tr>\n",
       "    <tr>\n",
       "      <th>279</th>\n",
       "      <td>655</td>\n",
       "      <td>$xrp</td>\n",
       "    </tr>\n",
       "    <tr>\n",
       "      <th>2917</th>\n",
       "      <td>644</td>\n",
       "      <td>update</td>\n",
       "    </tr>\n",
       "    <tr>\n",
       "      <th>2916</th>\n",
       "      <td>643</td>\n",
       "      <td>prices</td>\n",
       "    </tr>\n",
       "    <tr>\n",
       "      <th>2919</th>\n",
       "      <td>642</td>\n",
       "      <td>hour):</td>\n",
       "    </tr>\n",
       "    <tr>\n",
       "      <th>2918</th>\n",
       "      <td>642</td>\n",
       "      <td>(1</td>\n",
       "    </tr>\n",
       "    <tr>\n",
       "      <th>2915</th>\n",
       "      <td>636</td>\n",
       "      <td>🔄</td>\n",
       "    </tr>\n",
       "    <tr>\n",
       "      <th>27</th>\n",
       "      <td>629</td>\n",
       "      <td>#trading</td>\n",
       "    </tr>\n",
       "    <tr>\n",
       "      <th>28</th>\n",
       "      <td>532</td>\n",
       "      <td>#crypto</td>\n",
       "    </tr>\n",
       "    <tr>\n",
       "      <th>20</th>\n",
       "      <td>528</td>\n",
       "      <td>to</td>\n",
       "    </tr>\n",
       "    <tr>\n",
       "      <th>35</th>\n",
       "      <td>511</td>\n",
       "      <td>#btc</td>\n",
       "    </tr>\n",
       "    <tr>\n",
       "      <th>18</th>\n",
       "      <td>448</td>\n",
       "      <td>is</td>\n",
       "    </tr>\n",
       "    <tr>\n",
       "      <th>46</th>\n",
       "      <td>407</td>\n",
       "      <td>#cryptocurrency</td>\n",
       "    </tr>\n",
       "    <tr>\n",
       "      <th>3681</th>\n",
       "      <td>405</td>\n",
       "      <td>€</td>\n",
       "    </tr>\n",
       "    <tr>\n",
       "      <th>148</th>\n",
       "      <td>347</td>\n",
       "      <td>top</td>\n",
       "    </tr>\n",
       "    <tr>\n",
       "      <th>12</th>\n",
       "      <td>341</td>\n",
       "      <td>by</td>\n",
       "    </tr>\n",
       "    <tr>\n",
       "      <th>3672</th>\n",
       "      <td>339</td>\n",
       "      <td>%)…</td>\n",
       "    </tr>\n",
       "    <tr>\n",
       "      <th>89</th>\n",
       "      <td>337</td>\n",
       "      <td>and</td>\n",
       "    </tr>\n",
       "    <tr>\n",
       "      <th>150</th>\n",
       "      <td>307</td>\n",
       "      <td>alert</td>\n",
       "    </tr>\n",
       "    <tr>\n",
       "      <th>1</th>\n",
       "      <td>307</td>\n",
       "      <td>bitcoin</td>\n",
       "    </tr>\n",
       "    <tr>\n",
       "      <th>151</th>\n",
       "      <td>302</td>\n",
       "      <td>time:</td>\n",
       "    </tr>\n",
       "    <tr>\n",
       "      <th>70</th>\n",
       "      <td>273</td>\n",
       "      <td>1st</td>\n",
       "    </tr>\n",
       "    <tr>\n",
       "      <th>...</th>\n",
       "      <td>...</td>\n",
       "      <td>...</td>\n",
       "    </tr>\n",
       "    <tr>\n",
       "      <th>3838</th>\n",
       "      <td>1</td>\n",
       "      <td>214.79</td>\n",
       "    </tr>\n",
       "    <tr>\n",
       "      <th>3836</th>\n",
       "      <td>1</td>\n",
       "      <td>6920.7</td>\n",
       "    </tr>\n",
       "    <tr>\n",
       "      <th>3835</th>\n",
       "      <td>1</td>\n",
       "      <td>https://t.co/tox7lfsom5</td>\n",
       "    </tr>\n",
       "    <tr>\n",
       "      <th>3834</th>\n",
       "      <td>1</td>\n",
       "      <td>$243.843</td>\n",
       "    </tr>\n",
       "    <tr>\n",
       "      <th>3866</th>\n",
       "      <td>1</td>\n",
       "      <td>costs</td>\n",
       "    </tr>\n",
       "    <tr>\n",
       "      <th>3867</th>\n",
       "      <td>1</td>\n",
       "      <td>yourself</td>\n",
       "    </tr>\n",
       "    <tr>\n",
       "      <th>3868</th>\n",
       "      <td>1</td>\n",
       "      <td>7848.6</td>\n",
       "    </tr>\n",
       "    <tr>\n",
       "      <th>3869</th>\n",
       "      <td>1</td>\n",
       "      <td>243.16</td>\n",
       "    </tr>\n",
       "    <tr>\n",
       "      <th>3896</th>\n",
       "      <td>1</td>\n",
       "      <td>https://t.co/4pwoqlj2ki</td>\n",
       "    </tr>\n",
       "    <tr>\n",
       "      <th>3895</th>\n",
       "      <td>1</td>\n",
       "      <td>241.64</td>\n",
       "    </tr>\n",
       "    <tr>\n",
       "      <th>3894</th>\n",
       "      <td>1</td>\n",
       "      <td>7809.31</td>\n",
       "    </tr>\n",
       "    <tr>\n",
       "      <th>3893</th>\n",
       "      <td>1</td>\n",
       "      <td>https://t.co/zg43eatvmb</td>\n",
       "    </tr>\n",
       "    <tr>\n",
       "      <th>3891</th>\n",
       "      <td>1</td>\n",
       "      <td>214.71</td>\n",
       "    </tr>\n",
       "    <tr>\n",
       "      <th>3889</th>\n",
       "      <td>1</td>\n",
       "      <td>6923.8</td>\n",
       "    </tr>\n",
       "    <tr>\n",
       "      <th>3888</th>\n",
       "      <td>1</td>\n",
       "      <td>https://t.co/mr7yksbkd4</td>\n",
       "    </tr>\n",
       "    <tr>\n",
       "      <th>3887</th>\n",
       "      <td>1</td>\n",
       "      <td>$244.092</td>\n",
       "    </tr>\n",
       "    <tr>\n",
       "      <th>3886</th>\n",
       "      <td>1</td>\n",
       "      <td>$7,860.669</td>\n",
       "    </tr>\n",
       "    <tr>\n",
       "      <th>3884</th>\n",
       "      <td>1</td>\n",
       "      <td>$7860.67.</td>\n",
       "    </tr>\n",
       "    <tr>\n",
       "      <th>3883</th>\n",
       "      <td>1</td>\n",
       "      <td>-8.16%</td>\n",
       "    </tr>\n",
       "    <tr>\n",
       "      <th>3882</th>\n",
       "      <td>1</td>\n",
       "      <td>https://t.co/cfyq7ekrqr</td>\n",
       "    </tr>\n",
       "    <tr>\n",
       "      <th>3880</th>\n",
       "      <td>1</td>\n",
       "      <td>242.2</td>\n",
       "    </tr>\n",
       "    <tr>\n",
       "      <th>3878</th>\n",
       "      <td>1</td>\n",
       "      <td>7816.62</td>\n",
       "    </tr>\n",
       "    <tr>\n",
       "      <th>3877</th>\n",
       "      <td>1</td>\n",
       "      <td>https://t.co/rqnbivd6lb</td>\n",
       "    </tr>\n",
       "    <tr>\n",
       "      <th>3876</th>\n",
       "      <td>1</td>\n",
       "      <td>$115.30…</td>\n",
       "    </tr>\n",
       "    <tr>\n",
       "      <th>3875</th>\n",
       "      <td>1</td>\n",
       "      <td>$0.40992</td>\n",
       "    </tr>\n",
       "    <tr>\n",
       "      <th>3874</th>\n",
       "      <td>1</td>\n",
       "      <td>$244.25145</td>\n",
       "    </tr>\n",
       "    <tr>\n",
       "      <th>3873</th>\n",
       "      <td>1</td>\n",
       "      <td>$7,865.27206</td>\n",
       "    </tr>\n",
       "    <tr>\n",
       "      <th>3872</th>\n",
       "      <td>1</td>\n",
       "      <td>https://t.co/9kamqwhwac</td>\n",
       "    </tr>\n",
       "    <tr>\n",
       "      <th>3871</th>\n",
       "      <td>1</td>\n",
       "      <td>https://t.co/enqatz48fx</td>\n",
       "    </tr>\n",
       "    <tr>\n",
       "      <th>8623</th>\n",
       "      <td>1</td>\n",
       "      <td>https://t.co/fncgwfxkzf</td>\n",
       "    </tr>\n",
       "  </tbody>\n",
       "</table>\n",
       "<p>8624 rows × 2 columns</p>\n",
       "</div>"
      ],
      "text/plain": [
       "      counts                    words\n",
       "2       2133                        -\n",
       "1309    1448                        $\n",
       "2922    1389                       %)\n",
       "39      1019                       in\n",
       "29      1013                     $btc\n",
       "40       829                      the\n",
       "15       751                       rt\n",
       "31       697                 #bitcoin\n",
       "30       674                     $eth\n",
       "279      655                     $xrp\n",
       "2917     644                   update\n",
       "2916     643                   prices\n",
       "2919     642                   hour):\n",
       "2918     642                       (1\n",
       "2915     636                        🔄\n",
       "27       629                 #trading\n",
       "28       532                  #crypto\n",
       "20       528                       to\n",
       "35       511                     #btc\n",
       "18       448                       is\n",
       "46       407          #cryptocurrency\n",
       "3681     405                        €\n",
       "148      347                      top\n",
       "12       341                       by\n",
       "3672     339                      %)…\n",
       "89       337                      and\n",
       "150      307                    alert\n",
       "1        307                  bitcoin\n",
       "151      302                    time:\n",
       "70       273                      1st\n",
       "...      ...                      ...\n",
       "3838       1                   214.79\n",
       "3836       1                   6920.7\n",
       "3835       1  https://t.co/tox7lfsom5\n",
       "3834       1                 $243.843\n",
       "3866       1                    costs\n",
       "3867       1                 yourself\n",
       "3868       1                   7848.6\n",
       "3869       1                   243.16\n",
       "3896       1  https://t.co/4pwoqlj2ki\n",
       "3895       1                   241.64\n",
       "3894       1                  7809.31\n",
       "3893       1  https://t.co/zg43eatvmb\n",
       "3891       1                   214.71\n",
       "3889       1                   6923.8\n",
       "3888       1  https://t.co/mr7yksbkd4\n",
       "3887       1                 $244.092\n",
       "3886       1               $7,860.669\n",
       "3884       1                $7860.67.\n",
       "3883       1                   -8.16%\n",
       "3882       1  https://t.co/cfyq7ekrqr\n",
       "3880       1                    242.2\n",
       "3878       1                  7816.62\n",
       "3877       1  https://t.co/rqnbivd6lb\n",
       "3876       1                 $115.30…\n",
       "3875       1                 $0.40992\n",
       "3874       1               $244.25145\n",
       "3873       1             $7,865.27206\n",
       "3872       1  https://t.co/9kamqwhwac\n",
       "3871       1  https://t.co/enqatz48fx\n",
       "8623       1  https://t.co/fncgwfxkzf\n",
       "\n",
       "[8624 rows x 2 columns]"
      ]
     },
     "execution_count": 207,
     "metadata": {},
     "output_type": "execute_result"
    }
   ],
   "source": [
    "word_counts"
   ]
  },
  {
   "cell_type": "code",
   "execution_count": null,
   "metadata": {},
   "outputs": [],
   "source": []
  }
 ],
 "metadata": {
  "kernelspec": {
   "display_name": "Python 3",
   "language": "python",
   "name": "python3"
  },
  "language_info": {
   "codemirror_mode": {
    "name": "ipython",
    "version": 3
   },
   "file_extension": ".py",
   "mimetype": "text/x-python",
   "name": "python",
   "nbconvert_exporter": "python",
   "pygments_lexer": "ipython3",
   "version": "3.6.5"
  }
 },
 "nbformat": 4,
 "nbformat_minor": 2
}
